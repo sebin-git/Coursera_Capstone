{
 "cells": [
  {
   "cell_type": "markdown",
   "metadata": {},
   "source": [
    "## Table of contents\n",
    "\n",
    "* [Introduction: Business Problem](#introduction)\n",
    "* [Data](#data)\n",
    "* [Methodology](#methodology)\n",
    "* [Analysis](#analysis)\n",
    "* [Results and Discussion](#results)\n",
    "* [Conclusion](#conclusion)"
   ]
  },
  {
   "cell_type": "markdown",
   "metadata": {},
   "source": [
    "### Introduction : Business Problem <a name=\"introduction\"></a>"
   ]
  },
  {
   "cell_type": "markdown",
   "metadata": {},
   "source": [
    "During these unprecedented times with Pandemic. Medical supplies are utmost required in most populated places in New York City. In this project we are trying to find the optimal location for opening a Pharmacy in the borough of Brooklyn.\n",
    "\n",
    "Since the borough has a lot of pharmacies already we need to find a location with less density of pharmacies in a neighborhood. \n",
    "\n",
    "We will use data science techniques to generate the most promising neighborhoods. This will give the stakeholders boroughs with less number of pharmacies so that they can shortlist and review other characterestics"
   ]
  },
  {
   "cell_type": "markdown",
   "metadata": {},
   "source": [
    "### Data <a name=\"data\"></a>"
   ]
  },
  {
   "cell_type": "markdown",
   "metadata": {},
   "source": [
    "Based on definition of our problem, factors that will influence our decission will be:\n",
    "\n",
    "* Number of pharmacies in the neighborhood.\n",
    "\n",
    "Following data sources will be needed to extract/generate the required information:\n",
    "\n",
    "* Extract NYC Neighborhoods from Wiki : https://en.wikipedia.org/wiki/Neighborhoods_in_New_York_City\n",
    "* centers of candidate areas will be generated algorithmically.\n",
    "* Number of Pharmacies and their type and location in every neighborhood will be obtained using **Foursquare API**"
   ]
  },
  {
   "cell_type": "code",
   "execution_count": null,
   "metadata": {},
   "outputs": [],
   "source": []
  }
 ],
 "metadata": {
  "kernelspec": {
   "display_name": "Python 3",
   "language": "python",
   "name": "python3"
  },
  "language_info": {
   "codemirror_mode": {
    "name": "ipython",
    "version": 3
   },
   "file_extension": ".py",
   "mimetype": "text/x-python",
   "name": "python",
   "nbconvert_exporter": "python",
   "pygments_lexer": "ipython3",
   "version": "3.8.5"
  }
 },
 "nbformat": 4,
 "nbformat_minor": 4
}
